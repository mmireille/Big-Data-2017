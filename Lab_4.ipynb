{
 "cells": [
  {
   "cell_type": "markdown",
   "metadata": {},
   "source": [
    "# Двусвязный список\n",
    "Содержит такие поля, как:\n",
    "- указатель на первый элемент\n",
    "- указатель на последний элемент\n",
    "- длину списка\n",
    "\n",
    "Реализован метод добавления элемента в конец списка _add()_."
   ]
  },
  {
   "cell_type": "code",
   "execution_count": 1,
   "metadata": {},
   "outputs": [],
   "source": [
    "class DoublyLinkedList():\n",
    "    # Конструктор класса\n",
    "    def __init__(self):\n",
    "        self.first = None\n",
    "        self.last = None\n",
    "        self.length = 0\n",
    "    \n",
    "    # Имплементация метода str()\n",
    "    def __str__(self):\n",
    "        output = 'DoublyLinkedList ['\n",
    "        if self.first != None:\n",
    "            current_node = self.first\n",
    "            output += '\\n ' + str(current_node)\n",
    "            \n",
    "            while current_node.next != None:\n",
    "                current_node = current_node.next\n",
    "                output += '\\n ' + str(current_node)\n",
    "        return output + ']'\n",
    "    \n",
    "    # Имплементация метода len()\n",
    "    def __len__(self):\n",
    "        return self.length\n",
    "    \n",
    "    # Добавление нового элемента в конец списка\n",
    "    def add(self, element):\n",
    "        self.length += 1\n",
    "        if self.first == None:\n",
    "            self.first = self.last = Node(element)\n",
    "        else:\n",
    "            self.last.next = self.last = Node(element, self.last)"
   ]
  },
  {
   "cell_type": "markdown",
   "metadata": {},
   "source": [
    "## Элемент списка\n",
    "Содержит такие поля, как:\n",
    "- значение\n",
    "- указатель на предыдущий элемент\n",
    "- указатель на следующий элемент"
   ]
  },
  {
   "cell_type": "code",
   "execution_count": 2,
   "metadata": {},
   "outputs": [],
   "source": [
    "class Node:\n",
    "    __FORMAT = '[Value = {0}, Previous = {1}, Next = {2}]'\n",
    "    \n",
    "    # Конструктор класса\n",
    "    def __init__(self, value = None, previous = None, next = None):\n",
    "        self.value = value\n",
    "        self.previous = previous\n",
    "        self.next = next\n",
    "    \n",
    "    # Имплементация метода str()\n",
    "    def __str__(self):        \n",
    "        def link_value(link):\n",
    "            value = None\n",
    "            if link:\n",
    "                value = link.value\n",
    "            return value\n",
    "        \n",
    "        previous = link_value(self.previous)\n",
    "        next = link_value(self.next)\n",
    "        \n",
    "        return self.__FORMAT.format(self.value, previous, next)"
   ]
  },
  {
   "cell_type": "markdown",
   "metadata": {},
   "source": [
    "### Пример работы"
   ]
  },
  {
   "cell_type": "code",
   "execution_count": 3,
   "metadata": {},
   "outputs": [
    {
     "name": "stdout",
     "output_type": "stream",
     "text": [
      "Набор методов объекта DoublyLinkedList:\n",
      " ['__class__', '__delattr__', '__dict__', '__dir__', '__doc__', '__eq__', '__format__', '__ge__', '__getattribute__', '__gt__', '__hash__', '__init__', '__le__', '__len__', '__lt__', '__module__', '__ne__', '__new__', '__reduce__', '__reduce_ex__', '__repr__', '__setattr__', '__sizeof__', '__str__', '__subclasshook__', '__weakref__', 'add']\n",
      "\n",
      "Набор методов объекта Node:\n",
      " ['_Node__FORMAT', '__class__', '__delattr__', '__dict__', '__dir__', '__doc__', '__eq__', '__format__', '__ge__', '__getattribute__', '__gt__', '__hash__', '__init__', '__le__', '__lt__', '__module__', '__ne__', '__new__', '__reduce__', '__reduce_ex__', '__repr__', '__setattr__', '__sizeof__', '__str__', '__subclasshook__', '__weakref__']\n",
      "\n",
      "Тестовый список:\n",
      " DoublyLinkedList [\n",
      " [Value = 1, Previous = None, Next = 24]\n",
      " [Value = 24, Previous = 1, Next = -20]\n",
      " [Value = -20, Previous = 24, Next = None]]\n",
      "List length = 3\n"
     ]
    }
   ],
   "source": [
    "print(\"Набор методов объекта DoublyLinkedList:\\n\", dir(DoublyLinkedList))\n",
    "print()\n",
    "print(\"Набор методов объекта Node:\\n\", dir(Node))\n",
    "print()\n",
    "\n",
    "test_list = DoublyLinkedList()\n",
    "test_list.add(1)\n",
    "test_list.add(24)\n",
    "test_list.add(-20)\n",
    "print(\"Тестовый список:\\n %s\" % (test_list))\n",
    "print(\"List length = %i\" % (len(test_list)))"
   ]
  }
 ],
 "metadata": {
  "kernelspec": {
   "display_name": "Python 3",
   "language": "python",
   "name": "python3"
  },
  "language_info": {
   "codemirror_mode": {
    "name": "ipython",
    "version": 3
   },
   "file_extension": ".py",
   "mimetype": "text/x-python",
   "name": "python",
   "nbconvert_exporter": "python",
   "pygments_lexer": "ipython3",
   "version": "3.5.2"
  }
 },
 "nbformat": 4,
 "nbformat_minor": 2
}
