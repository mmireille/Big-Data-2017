{
 "cells": [
  {
   "cell_type": "markdown",
   "metadata": {},
   "source": [
    "## Тема\n",
    "Введение в нейронные сети\n",
    "## Цель\n",
    "Знакомство с основными понятиями нейронных сетей.\n",
    "## Пример\n",
    "Вариант 1\n",
    "\n",
    "## Задание\n",
    "1.Выучить основные понятия неуронных сетей.\n",
    "\n",
    "2.Графически отобразить результаты экспериментальной зависимости выходной величины Y от входной величины X"
   ]
  },
  {
   "cell_type": "markdown",
   "metadata": {},
   "source": [
    "Для работы с массивами мы будем использовать библиотеку _NumPy_.\n",
    "\n",
    "_NumPy_ — это библиотека с открытым исходным кодом для языка программирования Python. Она предоставляет реализации вычислительных алгоритмов (в виде функций и операторов), оптимизированные для работы с многомерными массивами. В результате любой алгоритм, который может быть выражен в виде последовательности операций над массивами (матрицами) и реализованный с использованием NumPy, работает так же быстро, как эквивалентный код, выполняемый в MATLAB.\n",
    "\n",
    "Возможности:\n",
    "- поддержка многомерных массивов (включая матрицы);\n",
    "- поддержка высокоуровневых математических функций, предназначенных для работы с многомерными массивами."
   ]
  },
  {
   "cell_type": "code",
   "execution_count": 29,
   "metadata": {},
   "outputs": [
    {
     "name": "stdout",
     "output_type": "stream",
     "text": [
      "[1 2 3 4 5 6 7 8 9]\n",
      "[  3.6   4.4   5.8   6.2   7.4   8.    9.2  10.4  11.8]\n"
     ]
    }
   ],
   "source": [
    "import numpy as np\n",
    "\n",
    "# Массив со значениями в диапазоне от 1 до 9\n",
    "x = np.arange(1, 10)\n",
    "print(x)\n",
    "\n",
    "y = np.array([3.6, 4.4, 5.8, 6.2, 7.4, 8, 9.2, 10.4, 11.8])\n",
    "print(y)"
   ]
  },
  {
   "cell_type": "markdown",
   "metadata": {},
   "source": [
    "Для построения графиков используется _Matplotlib API_. Установить ее можно с помощью пакетного менеджера pip:\n",
    "\n",
    "    pip3 install matplotlib\n",
    "\n",
    "В данном случае мы используем метод _plot(x, y, тип маркера)_.\n",
    "\n",
    "Больше информации о данной библиотеке можно узнать тут - https://matplotlib.org/contents.html"
   ]
  },
  {
   "cell_type": "code",
   "execution_count": 30,
   "metadata": {},
   "outputs": [
    {
     "data": {
      "image/png": "[encoded data removed]",
      "text/plain": [
       "<matplotlib.figure.Figure at 0x7fcb8db67828>"
      ]
     },
     "metadata": {},
     "output_type": "display_data"
    }
   ],
   "source": [
    "import matplotlib.pyplot as plt\n",
    "plt.plot(x, y, 'ro')\n",
    "plt.axis([0, 10, 0, 15])\n",
    "plt.show()"
   ]
  },
  {
   "cell_type": "markdown",
   "metadata": {
    "collapsed": true
   },
   "source": [
    "3.Найти аналитическое описание данной зависимости (линейное), используя метод наименьших квадратов:\n",
    "\n",
    "\\begin{eqnarray}\n",
    "y = mx + c\n",
    "\\end{eqnarray}\n",
    "\n",
    "    Подсказка! Используя метод наименьших квадратов, можно записать:\n",
    "\n",
    "\\begin{eqnarray}\n",
    "E = \\sum [y_i - (mx_i + c_i)]^2\n",
    "\\end{eqnarray}\n",
    "\n",
    "    Рассмотрим частные производные, проанализируем зависимость общей ошибки от изменения _m_ и _c_:\n",
    "\n",
    "\\begin{eqnarray}\n",
    "\\frac{\\delta E}{\\delta m} = -2 \\sum x_i[y_i - (mx_i + c_i)]\\frac{\\delta E}{\\delta c} = -2 \\sum [y_i - (mx_i + c_i)]\n",
    "\\end{eqnarray}\n",
    "\n",
    "    Приравнивая к _0_ и решая соответствующее уравнение, получаем:\n",
    "\n",
    "\\begin{eqnarray}\n",
    "m = \\frac{n \\sum x_i y_i - \\sum x_i \\sum y_i}{n \\sum x_i^2 - (\\sum x_i)^2}, c = \\frac{\\sum y_i - m \\sum x_i}{n}\n",
    "\\end{eqnarray}\n",
    "\n",
    "    Метод наименьших квадратов дает эффективный способ нахождения прямой, которая соответствует существующему набору данных."
   ]
  },
  {
   "cell_type": "code",
   "execution_count": 77,
   "metadata": {},
   "outputs": [
    {
     "name": "stdout",
     "output_type": "stream",
     "text": [
      "Sum of Xi:\t 45\n",
      "Sum of Yi:\t 66.8\n",
      "Sum of Xi^2:\t 285\n",
      "Sum of Xi * Yi:\t 393.4\n",
      "m:\t\t 0.99\n",
      "c:\t\t 2.47222222222\n",
      "Y:\t\t [  3.46222222   4.45222222   5.44222222   6.43222222   7.42222222\n",
      "   8.41222222   9.40222222  10.39222222  11.38222222]\n"
     ]
    },
    {
     "data": {
      "image/png": "[encoded data removed]",
      "text/plain": [
       "<matplotlib.figure.Figure at 0x7fcb8c12c6a0>"
      ]
     },
     "metadata": {},
     "output_type": "display_data"
    }
   ],
   "source": [
    "import math\n",
    "\n",
    "n = len(x)\n",
    "\n",
    "sum_x = np.sum(x)\n",
    "print('Sum of Xi:\\t', sum_x)\n",
    "sum_y = np.sum(y)\n",
    "print('Sum of Yi:\\t', sum_y)\n",
    "sum_sqr_x = x.dot(x)\n",
    "print('Sum of Xi^2:\\t', sum_sq)\n",
    "sum_xy = x.dot(y)\n",
    "print('Sum of Xi * Yi:\\t', sum_xy)\n",
    "\n",
    "m = (n * sum_xy - sum_x * sum_y) / (n * sum_sqr_x - sum_x**2)\n",
    "print('m:\\t\\t', m)\n",
    "\n",
    "c = (sum_y - m * sum_x) / n\n",
    "print('c:\\t\\t', c)\n",
    "\n",
    "y_approx = m * x + c\n",
    "print('Y:\\t\\t', y_approx)\n",
    "\n",
    "plt.plot(x, y, 'ro')\n",
    "plt.plot(x, y_approx)\n",
    "plt.show()"
   ]
  },
  {
   "cell_type": "markdown",
   "metadata": {},
   "source": [
    "4.Найти аналитическое описание этой зависимости (линейной), используя нейронные сети.\n",
    "    \n",
    "    Алгоритм:\n",
    "    \n",
    "    1. В начале весовые коэфициенты устанавливаются равными случайным значениям (небольшим)\n",
    "    2. Разница между ожидаемым t и полученным значением y даст ошибку:\n",
    "        \n",
    "\\begin{eqnarray}\n",
    "\\delta = t - y\n",
    "\\end{eqnarray}\n",
    "        \n",
    "        Ее можно использовать для корректирования весов.\n",
    "    3. Правилом проекции ошибок есть дельта правило (правило Видроу-Хоффа), в соответствии с которым коррекция вычисляется по формуле:\n",
    "    \n",
    "\\begin{eqnarray}\n",
    "\\Delta W = \\eta \\delta x\n",
    "\\end{eqnarray}\n",
    "       \n",
    "        Новый весовой коэффициент вычисляется по формуле:\n",
    "    4. В процессе обучения на вход сети подаются пример за примером, и корректируются веса до тех пор, пока для всех примеров ошибка не станет меньше некоторого достаточно малого значения.\n",
    "        \n",
    "\\begin{eqnarray}\n",
    "W = W + \\Delta W\n",
    "\\end{eqnarray}\n",
    "        \n",
    "        После обучения, НС можно протестировать на контрольных данных и оценить их работу (сравнить с методом наименьших квадратов)."
   ]
  },
  {
   "cell_type": "code",
   "execution_count": null,
   "metadata": {
    "collapsed": true
   },
   "outputs": [],
   "source": []
  },
  {
   "cell_type": "markdown",
   "metadata": {},
   "source": [
    "5.Оценить среднюю ошибку апроксимации."
   ]
  },
  {
   "cell_type": "code",
   "execution_count": 95,
   "metadata": {},
   "outputs": [
    {
     "name": "stdout",
     "output_type": "stream",
     "text": [
      "Ошибка аппроксимации в случае метода наименьших квадратов:\n",
      "[ 0.13777778 -0.05222222  0.35777778 -0.23222222 -0.02222222 -0.41222222\n",
      " -0.20222222  0.00777778  0.41777778]\n",
      "Среднее значение:\n",
      "4.93432455389e-16\n"
     ]
    }
   ],
   "source": [
    "error_sqr = y - y_approx\n",
    "error_sqr_median = np.sum(error_sqr) / len(error_sqr)\n",
    "print('Ошибка аппроксимации в случае метода наименьших квадратов:\\n%s\\nСреднее значение:\\n%s' \n",
    "      % (error_sqr, error_sqr_median))\n"
   ]
  },
  {
   "cell_type": "code",
   "execution_count": null,
   "metadata": {
    "collapsed": true
   },
   "outputs": [],
   "source": []
  }
 ],
 "metadata": {
  "kernelspec": {
   "display_name": "Python 3",
   "language": "python",
   "name": "python3"
  },
  "language_info": {
   "codemirror_mode": {
    "name": "ipython",
    "version": 3
   },
   "file_extension": ".py",
   "mimetype": "text/x-python",
   "name": "python",
   "nbconvert_exporter": "python",
   "pygments_lexer": "ipython3",
   "version": "3.5.2"
  }
 },
 "nbformat": 4,
 "nbformat_minor": 2
}
